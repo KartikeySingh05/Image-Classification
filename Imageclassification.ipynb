import tensorflow as tf
from tensorflow.keras import datasets,layers,models
import numpy as np
import matplotlib.pyplot as plt
(X_train,y_train),(X_test,y_test) = datasets.cifar10.load_data()
X_train.shape
y_train = y_train.reshape(-1,)
y_train[:5]
classes = ['airplane','automobile','bird','cat','deer','dog','frog','horse','ship','truck']
def plot_sample(X, y, index):
  plt.figure(figsize=(15,2))
  plt.imshow(X[index])
  plt.xlabel(classes[y[index]])
X_train = X_train / 255.0
X_test = X_test / 255.0
ann = models.Sequential([
    layers.Flatten(input_shape=(32,32,3)),
    layers.Dense(3000, activation='relu'),
    layers.Dense(1000, activation='relu'),
    layers.Dense(10, activation='softmax')
 ])

ann.compile(optimizer='SGD',
            loss='sparse_categorical_crossentropy',
            metrics=['accuracy'])

ann.fit(X_train, y_train,epochs=5)
ann.evaluate(X_test,y_test)
y_pred = ann.predict(X_test)
y_pred_classes = [np.argmax(element) for element in y_pred]
cnn = models.Sequential([
    layers.Conv2D(filters=32, kernel_size=(3, 3), activation='relu', input_shape=(32, 32, 3)),
    layers.MaxPooling2D((2, 2)),

    layers.Conv2D(filters=64, kernel_size=(3, 3), activation='relu'),
    layers.MaxPooling2D((2, 2)),

    layers.Flatten(),
    layers.Dense(64, activation='relu'),
    layers.Dense(10, activation='softmax')
])
cnn.compile(optimizer='adam',
              loss='sparse_categorical_crossentropy',
              metrics=['accuracy'])
cnn.fit(X_train, y_train, epochs=10)
cnn.evaluate(X_test,y_test)
y_test = y_test.reshape(-1,)
y_test[:5]
y_pred = cnn.predict(X_test)
y_pred[:5]
y_classes = [np.argmax(element) for element in y_pred]
# Function to plot and display images with their predicted classes
def plot_images(model, X, y_true, classes, samples=5):
    y_pred_prob = model.predict(X)
    y_pred_classes = [np.argmax(element) for element in y_pred_prob]

    plt.figure(figsize=(15, 3 * samples))
    for i in range(samples):
        plt.subplot(samples, 2, 2 * i + 1)
        plt.imshow(X[i], interpolation='nearest')  # Set interpolation to 'nearest'
        plt.title(f'True: {classes[y_true[i]]}, Predicted: {classes[y_pred_classes[i]]}')

        plt.subplot(samples, 2, 2 * i + 2)
        plt.bar(range(10), y_pred_prob[i])
        plt.xticks(range(10), classes, rotation=45)
        plt.title('Predicted Probability Distribution')

    # Add some space between the subplots
    plt.subplots_adjust(hspace=0.5)

    plt.show()

# Plot images for the ANN model
plot_images(ann, X_test[:5], y_test[:5], classes)

# Plot images for the CNN model
plot_images(cnn, X_test[:5], y_test[:5], classes)
